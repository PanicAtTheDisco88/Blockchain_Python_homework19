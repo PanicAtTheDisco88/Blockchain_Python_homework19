{
 "cells": [
  {
   "cell_type": "markdown",
   "id": "7d02820a-5fa0-42fe-b035-9b32a101c001",
   "metadata": {},
   "source": [
    "# Step 1: Program requirements\n",
    "### Import dependencies, load and set environment variables"
   ]
  },
  {
   "cell_type": "code",
   "execution_count": 12,
   "id": "feec39c7-dc23-401c-8623-7c7d5ae2fd2c",
   "metadata": {},
   "outputs": [],
   "source": [
    "# Import dependencies\n",
    "import subprocess\n",
    "import json\n",
    "import os\n",
    "\n",
    "from dotenv import load_dotenv\n",
    "import import_ipynb\n",
    "import constants\n",
    "\n",
    "from bit import PrivateKeyTestnet\n",
    "from bit.network import NetworkAPI\n",
    "from bit import wif_to_key\n",
    "\n",
    "from web3 import Web3, middleware, Account\n",
    "from web3.gas_strategies.time_based import medium_gas_price_strategy\n",
    "from web3.middleware import geth_poa_middleware\n",
    "\n",
    "from pprint import pprint\n",
    "\n",
    "# Load and set environment variables\n",
    "\n",
    "# Import constants.py and necessary functions from bit and web3\n",
    "w3 = Web3(Web3.HTTPProvider(\"http://localhost:8545\"))\n",
    "w3.middleware_onion.inject(geth_poa_middleware, layer=0)\n",
    "\n",
    "load_dotenv('../blockchain_hw19.env')\n",
    "mnemonic=os.getenv(\"mnemonic\")\n",
    "\n",
    "w3.eth.setGasPriceStrategy(medium_gas_price_strategy)\n",
    "\n",
    "#private_key = os.getenv(\"PRIVATE_KEY\")\n",
    "\n",
    "#account = Account.web3.from_key(private_key)\n",
    "#print(account.address)\n"
   ]
  },
  {
   "cell_type": "markdown",
   "id": "c0ee5542-0f64-4172-8773-14012ac5f2f0",
   "metadata": {},
   "source": [
    "# Step 2: Key functions\n",
    "### 1) derive_wallets: Lookup and return account keys based on 12 word mnemonic\n",
    "### 2) priv_key_to_account: Based on the coin passed to the function, looks up the coin's address and private key stored in the coin dictionary.\n",
    "### 3) create_txn: Creates an unsigned transaction appropriate metadata.\n",
    "### 4) send_txn: Calls create_txn, signs and sends the transaction."
   ]
  },
  {
   "cell_type": "code",
   "execution_count": 13,
   "id": "ca64cda7-f677-4e59-bcad-fd297962b920",
   "metadata": {},
   "outputs": [],
   "source": [
    "# Create a function called `derive_wallets`\n",
    "def derive_wallets(coin, mnemonic=mnemonic, depth=3):\n",
    "    wallet_fpath = '/Users/rhnil/Desktop/Columbia_Bootcamp/Blockchain_Python_homework19/wallet/hd-wallet-derive/hd-wallet-derive.php'\n",
    "    command = f'php {wallet_fpath} -g --mnemonic=\"{mnemonic}\" --cols=all --coin={coin} --numderive={depth} --format=json'\n",
    "    p = subprocess.Popen(command, stdout=subprocess.PIPE, shell=True)\n",
    "    (output, err) = p.communicate()\n",
    "    p_status = p.wait()\n",
    "    keys = json.loads(output)\n",
    "    return keys"
   ]
  },
  {
   "cell_type": "code",
   "execution_count": 14,
   "id": "ae1f7b66-ade5-4b58-b47d-a3bb9c2a99d8",
   "metadata": {
    "tags": []
   },
   "outputs": [],
   "source": [
    "# Create a dictionary object called coins to store the output from `derive_wallets`.\n",
    "\n",
    "coins = {'btc': derive_wallets(constants.BTC),\n",
    "         'eth': derive_wallets(constants.ETH),\n",
    "         'btc-test': derive_wallets(constants.BTCTEST), \n",
    "}\n",
    "\n",
    "#pprint(coins)"
   ]
  },
  {
   "cell_type": "code",
   "execution_count": 15,
   "id": "b606dba4-33d1-4962-9f71-746c28797d09",
   "metadata": {
    "tags": []
   },
   "outputs": [],
   "source": [
    "# Create a function called `priv_key_to_account` that converts privkey strings to account objects.\n",
    "def priv_key_to_account(coin):\n",
    "    if coin == 'eth':\n",
    "        list_of_accounts = coins.get('eth')\n",
    "        account_info =[]\n",
    "        for coin in list_of_accounts:\n",
    "            account_info.append(tuple((coin['address'],coin['privkey'])))\n",
    "        return account_info\n",
    "            \n",
    "    if coin == 'btc-test':\n",
    "        list_of_accounts = coins.get('btc-test')\n",
    "        account_info =[]\n",
    "        for coin in list_of_accounts:\n",
    "            account_info.append(tuple((coin['address'], coin['privkey'])))\n",
    "        return account_info\n",
    "       \n",
    "\n",
    "\n",
    "# Create a function called `create_txn` that creates an unsigned transaction appropriate metadata.\n",
    "def create_txn(coin, account, recipient, amount):\n",
    "    if coin == 'eth':\n",
    "        value = w3.toWei(amount, \"ether\")\n",
    "        gasEstimate = w3.eth.estimateGas({\"to\":recipient, \"from\":account, \"amount\":amount})\n",
    "        return {\n",
    "            \"to\":recipient,\n",
    "            \"from\":account,\n",
    "            \"value\":value,\n",
    "            \"gas\":gasEstimate,\n",
    "            \"gasPrice\":w3.eth.generateGasPrice(),\n",
    "            \"nonce\":w3.eth.getTransactionCount(account),\n",
    "            \"chainId\":w3.eth.chain_id\n",
    "        }\n",
    "    if coin == 'btc-test':\n",
    "        return PrivateKeyTestnet.prepare_transaction(account.address, [(recipient, amount, constants.BTC)])\n",
    "\n",
    "# Create a function called `send_txn` that calls `create_txn`, signs and sends the transaction.\n",
    "def send_txn(coin, account, recipient, amount):\n",
    "    if coin == 'eth':\n",
    "        raw_txn = create_txn(coin, account.address, recipient, amount)\n",
    "        signed_txn = account.signTransaction(raw_txn)\n",
    "        return w3.eth.sendRawTransaction(signed_txn.rawTransaction)\n",
    "    if coin == 'btc-test':\n",
    "        raw_txn = create_txn(coin, account, recipient, amount)\n",
    "        print(raw_txn)\n",
    "        signed_txn = account.sign_transaction(raw_txn)\n",
    "        return NetworkAPI.broadcast_tx_testnet(signed_txn)"
   ]
  },
  {
   "cell_type": "markdown",
   "id": "31a11353-dcae-4898-af60-a7092ab75a4d",
   "metadata": {
    "tags": []
   },
   "source": [
    "# Step 3: Test functions\n",
    "### 1) Send ETH transaction and confirm via updated ETH balance\n",
    "### 2) Send BTC-TEST transaction and confirm via updated BTC-TEST balance"
   ]
  },
  {
   "cell_type": "code",
   "execution_count": 25,
   "id": "fc649d0e-ba82-4b0d-8b07-216331ffa81d",
   "metadata": {
    "tags": []
   },
   "outputs": [
    {
     "name": "stdout",
     "output_type": "stream",
     "text": [
      "Sender account address: 0xf1BC2ABd37fC0A4B05C81b1d2c9a3ce90139BE63\n",
      "Sender ETH balance: 16.84596156\n",
      "Receiver account address: 0xC89044d5dC88633c39c1647C816462d4e55a10E5\n",
      "Receiver ETH balance: 51.97819024\n"
     ]
    }
   ],
   "source": [
    "# Get current eth account address, block number, and eth balance\n",
    "sender_account_address = priv_key_to_account('eth')[0][0]\n",
    "sender_eth_balance = w3.fromWei(w3.eth.getBalance(sender_account_address), \"ether\")\n",
    "sender_key = Account.privateKeyToAccount(priv_key_to_account('eth')[0][1])\n",
    "\n",
    "receiver_account_address = priv_key_to_account('eth')[1][0]\n",
    "receiver_eth_balance = w3.fromWei(w3.eth.getBalance(receiver_account_address), \"ether\")\n",
    "receiver_key = Account.privateKeyToAccount(priv_key_to_account('eth')[1][1])\n",
    "\n",
    "print(f\"Sender account address: {sender_account_address}\")\n",
    "print(f\"Sender ETH balance: {sender_eth_balance}\")\n",
    "\n",
    "print(f\"Receiver account address: {receiver_account_address}\")\n",
    "print(f\"Receiver ETH balance: {receiver_eth_balance}\")"
   ]
  },
  {
   "cell_type": "code",
   "execution_count": 26,
   "id": "85f2fcf4-a99d-4ae5-9544-4e8caf2e2017",
   "metadata": {
    "tags": []
   },
   "outputs": [
    {
     "name": "stdout",
     "output_type": "stream",
     "text": [
      "account.address: 0xf1BC2ABd37fC0A4B05C81b1d2c9a3ce90139BE63\n",
      "type account.address:<class 'str'>\n",
      "raw_txn: {'to': '0xC89044d5dC88633c39c1647C816462d4e55a10E5', 'from': '0xf1BC2ABd37fC0A4B05C81b1d2c9a3ce90139BE63', 'value': 1000000000000000000, 'gas': 21000, 'gasPrice': 20000000000, 'nonce': 43, 'chainId': 1337}\n",
      "type raw_txn: <class 'dict'>\n",
      "Sender account address: 0xf1BC2ABd37fC0A4B05C81b1d2c9a3ce90139BE63\n",
      "Sender ETH balance: 16.84596156\n",
      "Receiver account address: 0xC89044d5dC88633c39c1647C816462d4e55a10E5\n",
      "Receiver ETH balance: 51.97819024\n"
     ]
    }
   ],
   "source": [
    "# Send eth \n",
    "\n",
    "send_txn('eth', sender_key, receiver_account_address, 1)\n",
    "\n",
    "print(f\"Sender account address: {sender_account_address}\")\n",
    "print(f\"Sender ETH balance: {sender_eth_balance}\")\n",
    "\n",
    "print(f\"Receiver account address: {receiver_account_address}\")\n",
    "print(f\"Receiver ETH balance: {receiver_eth_balance}\")"
   ]
  },
  {
   "cell_type": "code",
   "execution_count": 21,
   "id": "14876940-f9e4-4f98-9a5c-d9cf0396be95",
   "metadata": {
    "tags": []
   },
   "outputs": [
    {
     "name": "stdout",
     "output_type": "stream",
     "text": [
      "Account address: n1DD8g8Y7h7scEaSq7wHoG4CNR3DphKuoi\n",
      "BTC-TEST balance: 0.00100652\n"
     ]
    }
   ],
   "source": [
    "# Get account address and current btc-test balance\n",
    "account_address = priv_key_to_account('btc-test')[0][0]\n",
    "key = wif_to_key(priv_key_to_account('btc-test')[0][1])\n",
    "print(f\"Account address: {account_address}\")\n",
    "print(f\"BTC-TEST balance: {key.get_balance('btc')}\")"
   ]
  },
  {
   "cell_type": "code",
   "execution_count": 23,
   "id": "0a326a2c-0d54-4e37-af20-8a15114cdccf",
   "metadata": {
    "tags": []
   },
   "outputs": [
    {
     "name": "stdout",
     "output_type": "stream",
     "text": [
      "{\"unspents\":[{\"amount\":100,\"confirmations\":0,\"script\":\"76a914d8076a2d42ce4cd0230bfb84e02ab87f88b35e8688ac\",\"txid\":\"151f196f99c26c1d06bdf2c1815bf027ca357e08421191c711e29b77a152325d\",\"txindex\":0,\"type\":\"p2pkh\",\"vsize\":148,\"segwit\":false,\"sequence\":4294967295},{\"amount\":47308,\"confirmations\":0,\"script\":\"76a914d8076a2d42ce4cd0230bfb84e02ab87f88b35e8688ac\",\"txid\":\"151f196f99c26c1d06bdf2c1815bf027ca357e08421191c711e29b77a152325d\",\"txindex\":1,\"type\":\"p2pkh\",\"vsize\":148,\"segwit\":false,\"sequence\":4294967295}],\"outputs\":[[\"n1DD8g8Y7h7scEaSq7wHoG4CNR3DphKuoi\",100],[\"n1DD8g8Y7h7scEaSq7wHoG4CNR3DphKuoi\",9160]]}\n",
      "Account address: n1DD8g8Y7h7scEaSq7wHoG4CNR3DphKuoi\n",
      "BTC-TEST balance: 0.00047408\n"
     ]
    }
   ],
   "source": [
    "# Send btc-test and get new account balance\n",
    "send_txn('btc-test', key, account_address, 0.000001)\n",
    "print(f\"Account address: {account_address}\")\n",
    "print(f\"BTC-TEST balance: {key.get_balance('btc')}\")"
   ]
  }
 ],
 "metadata": {
  "kernelspec": {
   "display_name": "Python 3",
   "language": "python",
   "name": "python3"
  },
  "language_info": {
   "codemirror_mode": {
    "name": "ipython",
    "version": 3
   },
   "file_extension": ".py",
   "mimetype": "text/x-python",
   "name": "python",
   "nbconvert_exporter": "python",
   "pygments_lexer": "ipython3",
   "version": "3.7.10"
  }
 },
 "nbformat": 4,
 "nbformat_minor": 5
}
